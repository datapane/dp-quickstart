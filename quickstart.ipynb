{
 "cells": [
  {
   "attachments": {},
   "cell_type": "markdown",
   "id": "a5a91827",
   "metadata": {},
   "source": [
    "# Welcome to Datapane\n",
    "\n",
    "This is a quickstart guide to using Datapane to create and share _data apps_.\n",
    "\n",
    "We're doing this in a VS Code Jupyter Notebook, but you could also use another IDE or Python script. See our supported [environments](https://docs.datapane.com/environments) for more details.\n",
    "\n",
    "Let's make a simple data app that creates a scatter plot of features from the [Iris dataset](https://en.wikipedia.org/wiki/Iris_flower_data_set)."
   ]
  },
  {
   "cell_type": "code",
   "execution_count": null,
   "id": "4139a809-053c-40d2-84ef-ec93c3e7fb5f",
   "metadata": {},
   "outputs": [],
   "source": [
    "import altair as alt\n",
    "import datapane as dp\n",
    "from vega_datasets import data"
   ]
  },
  {
   "attachments": {},
   "cell_type": "markdown",
   "id": "f70b52ea",
   "metadata": {},
   "source": [
    "We've imported `datapane`, the popular visualization library `altair`, and `vega_datasets` which contains some sample datasets.\n",
    "\n",
    "Let's load the Iris dataset and get a list of the features."
   ]
  },
  {
   "cell_type": "code",
   "execution_count": null,
   "id": "30290e63",
   "metadata": {},
   "outputs": [],
   "source": [
    "dataset = data.iris()\n",
    "columns = list(dataset.columns)\n",
    "print(columns)"
   ]
  },
  {
   "attachments": {},
   "cell_type": "markdown",
   "id": "ed262f9b",
   "metadata": {},
   "source": [
    "## Functions"
   ]
  },
  {
   "attachments": {},
   "cell_type": "markdown",
   "id": "e51c90f1",
   "metadata": {},
   "source": [
    "With knowledge of our column names, let's build and test a function to create a scatter plot of two features."
   ]
  },
  {
   "cell_type": "code",
   "execution_count": null,
   "id": "87d05b49",
   "metadata": {},
   "outputs": [],
   "source": [
    "def plot(params):\n",
    "    global dataset\n",
    "\n",
    "    fig = (\n",
    "        alt.Chart(dataset)\n",
    "        .mark_point()\n",
    "        .encode(\n",
    "            x=alt.X(params[\"x_axis\"], scale=alt.Scale(zero=False)),\n",
    "            y=alt.X(params[\"y_axis\"], scale=alt.Scale(zero=False)),\n",
    "            color=params[\"color\"],\n",
    "            tooltip=columns,\n",
    "        )\n",
    "    )\n",
    "\n",
    "    return dp.Plot(fig, name=\"plot\")\n",
    "\n",
    "plot({\"x_axis\": \"sepalLength\", \"y_axis\": \"sepalWidth\", \"color\": \"species\"})"
   ]
  },
  {
   "attachments": {},
   "cell_type": "markdown",
   "id": "6f656621",
   "metadata": {},
   "source": [
    "Looking good. Let's highlight the differences between a _regular_ Python function, and a function that is ready for Datapane interactivity.\n",
    "\n",
    "- The first parameter is `params`, and it's a dictionary of the parameters we expect from the user submitted controls. The keys are determined by the `name` parameters of the controls that we'll create later.\n",
    "- We're returning a `dp.Plot` block, which supports visualizations from many popular libraries, including `altair`, `matplotlib`, `plotly`,`bokeh`, and `PlotAPI`.\n",
    "\n",
    "Datapane blocks have full notebook support, meaning they can be displayed in notebooks as seen above. "
   ]
  },
  {
   "attachments": {},
   "cell_type": "markdown",
   "id": "6404b2da",
   "metadata": {},
   "source": [
    "## Controls"
   ]
  },
  {
   "attachments": {},
   "cell_type": "markdown",
   "id": "115da36f",
   "metadata": {},
   "source": [
    "Let's create some Datapane controls to let the user select which features to plot, our feature list from earlier, `columns`, will be useful here."
   ]
  },
  {
   "cell_type": "code",
   "execution_count": null,
   "id": "5de5cf8d",
   "metadata": {},
   "outputs": [],
   "source": [
    "controls = dp.Controls(\n",
    "    dp.Choice(\"x_axis\", options=columns),\n",
    "    dp.Choice(\"y_axis\", options=columns),\n",
    "    dp.Choice(\"color\", options=columns),\n",
    ")"
   ]
  },
  {
   "attachments": {},
   "cell_type": "markdown",
   "id": "f959bf7e",
   "metadata": {},
   "source": [
    "The first parameter of each `dp.choice` is used as the key in the `params` dictionary that we can access in our function."
   ]
  },
  {
   "attachments": {},
   "cell_type": "markdown",
   "id": "5f6839c5",
   "metadata": {},
   "source": [
    "## All Together"
   ]
  },
  {
   "attachments": {},
   "cell_type": "markdown",
   "id": "67d889ad",
   "metadata": {},
   "source": [
    "We have our function, and our controls, now let's bring them together in a data app."
   ]
  },
  {
   "cell_type": "code",
   "execution_count": null,
   "id": "4ab76e63-bb39-49d7-9e2b-bfcd0f924a5e",
   "metadata": {},
   "outputs": [],
   "source": [
    "from re import sub\n",
    "\n",
    "\n",
    "blocks = dp.Blocks(\n",
    "    \"# Iris Dataset Plotter\",\n",
    "    dp.Group(\n",
    "        dp.Form(plot, target=\"plot\", submit_label=\"Plot\", controls=controls),\n",
    "        dp.Empty(name=\"plot\"),\n",
    "        columns=2,\n",
    "    ),\n",
    ")"
   ]
  },
  {
   "attachments": {},
   "cell_type": "markdown",
   "id": "5478acd0",
   "metadata": {},
   "source": [
    "Let's walk through the code.\n",
    "\n",
    "```python\n",
    "blocks = dp.Blocks(\n",
    "```\n",
    "\n",
    "This is the root block of our data app, a container for everything else.\n",
    "\n",
    "```python\n",
    "    \"# Iris Dataset Plotter\",\n",
    "```\n",
    "\n",
    "This is a markdown block, which will be rendered as a heading in our app.\n",
    "\n",
    "```python\n",
    "    dp.Group(\n",
    "```\n",
    "\n",
    "This is another container block, we've used it to create a 2 column layout for our controls and plot.\n",
    "\n",
    "```python\n",
    "        dp.Form(plot, target=\"plot\", controls=controls),\n",
    "        dp.Empty(name=\"plot\"),\n",
    "```\n",
    "\n",
    "The first block is a `dp.Form` block, which is a special block that allows us to call a function when a form is submit. \n",
    "\n",
    "It takes the function we created earlier, `plot`, and the controls we created earlier, `controls`. The `target` parameter tells Datapane where to render the output of the function, in this case, to whatever block has the name `\"plot\"`."
   ]
  },
  {
   "attachments": {},
   "cell_type": "markdown",
   "id": "0d593ea4",
   "metadata": {},
   "source": [
    "We can even view the design of our data app in this notebook, but the functions won't work until we publish it."
   ]
  },
  {
   "cell_type": "code",
   "execution_count": null,
   "id": "f8f37ffd",
   "metadata": {},
   "outputs": [],
   "source": [
    "blocks"
   ]
  },
  {
   "attachments": {},
   "cell_type": "markdown",
   "id": "cc5d0e67",
   "metadata": {},
   "source": [
    "## Launching the App"
   ]
  },
  {
   "attachments": {},
   "cell_type": "markdown",
   "id": "9e95b361",
   "metadata": {},
   "source": [
    "There are many ways to publish a Datapane app, but for now, let's use the `dp.serve` function to see it in action locally."
   ]
  },
  {
   "cell_type": "code",
   "execution_count": null,
   "id": "3cdf7ac9",
   "metadata": {},
   "outputs": [],
   "source": [
    "dp.serve_app(blocks)"
   ]
  },
  {
   "attachments": {},
   "cell_type": "markdown",
   "id": "378a4f80",
   "metadata": {},
   "source": [
    "That's it! You've created and served your first data app with Datapane.\n",
    "\n",
    "We could have done a lot more with this app, but we wanted to keep it simple. Here are some easy improvements we could make:\n",
    "\n",
    "- Add descriptions and labels to the controls,\n",
    "- Set the default values for the controls,\n",
    "- Present a plot by default, rather than waiting for the user to select features.\n",
    "- Set `publish=True` to get a public URL for your app.\n",
    "- Upload the app to the Datapane Cloud to share with your team."
   ]
  },
  {
   "attachments": {},
   "cell_type": "markdown",
   "id": "5c0fc785",
   "metadata": {},
   "source": [
    "## Next Steps\n",
    "\n",
    "- Visit the `examples` folder to see more exciting examples of Datapane apps.\n",
    "- [Join Discord](https://chat.datapane.com)\n",
    "- [Sign up for a free account](https://datapane.com/accounts/signup)\n",
    "- [Read the documentation](https://docs.datapane.com)\n",
    "- [Ask a question](https://forum.datapane.com/)"
   ]
  }
 ],
 "metadata": {},
 "nbformat": 4,
 "nbformat_minor": 5
}
