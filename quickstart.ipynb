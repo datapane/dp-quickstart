{
 "cells": [
  {
   "attachments": {},
   "cell_type": "markdown",
   "id": "a5a91827",
   "metadata": {},
   "source": [
    "# Welcome to Datapane\n",
    "\n",
    "This is a quickstart guide to using Datapane to create and share _data apps_.\n",
    "\n",
    "We're doing this in a VS Code Jupyter Notebook, but you could also use another IDE or Python script. See our supported [environments](https://docs.datapane.com/environments) for more details.\n",
    "\n",
    "Let's make a simple data app that creates a scatter plot of features from the [Iris dataset](https://en.wikipedia.org/wiki/Iris_flower_data_set)."
   ]
  },
  {
   "cell_type": "code",
   "execution_count": 9,
   "id": "4139a809-053c-40d2-84ef-ec93c3e7fb5f",
   "metadata": {},
   "outputs": [],
   "source": [
    "import altair as alt\n",
    "import datapane as dp\n",
    "from vega_datasets import data"
   ]
  },
  {
   "attachments": {},
   "cell_type": "markdown",
   "id": "f70b52ea",
   "metadata": {},
   "source": [
    "We've imported `datapane`, the popular visualization library `altair`, and `vega_datasets` which contains some sample datasets.\n",
    "\n",
    "Let's load the Iris dataset and get a list of the features."
   ]
  },
  {
   "cell_type": "code",
   "execution_count": 10,
   "id": "30290e63",
   "metadata": {},
   "outputs": [
    {
     "name": "stdout",
     "output_type": "stream",
     "text": [
      "['sepalLength', 'sepalWidth', 'petalLength', 'petalWidth', 'species']\n"
     ]
    }
   ],
   "source": [
    "dataset = data.iris()\n",
    "columns = list(dataset.columns)\n",
    "print(columns)"
   ]
  },
  {
   "attachments": {},
   "cell_type": "markdown",
   "id": "ed262f9b",
   "metadata": {},
   "source": [
    "## Functions"
   ]
  },
  {
   "attachments": {},
   "cell_type": "markdown",
   "id": "e51c90f1",
   "metadata": {},
   "source": [
    "With knowledge of our column names, let's build and test a function to create a scatter plot of two features."
   ]
  },
  {
   "cell_type": "code",
   "execution_count": 11,
   "id": "87d05b49",
   "metadata": {},
   "outputs": [
    {
     "data": {
      "text/html": [
       "<style>\n",
       "  #dp-fbdf4d584909499a8bdb83358ea493b3 {\n",
       "    width: 1px;\n",
       "    min-width: 100%;\n",
       "  }\n",
       "</style>\n",
       "<script\n",
       "  src=\"https://cdnjs.cloudflare.com/ajax/libs/iframe-resizer/4.3.2/iframeResizer.min.js\"\n",
       "  integrity=\"sha512-dnvR4Aebv5bAtJxDunq3eE8puKAJrY9GBJYl9GC6lTOEC76s1dbDfJFcL9GyzpaDW4vlI/UjR8sKbc1j6Ynx6w==\"\n",
       "  crossorigin=\"anonymous\"\n",
       "  referrerpolicy=\"no-referrer\"\n",
       "></script>\n",
       "<iframe id=\"dp-fbdf4d584909499a8bdb83358ea493b3\" srcdoc=\"&lt;!DOCTYPE html&gt;\n",
       "&lt;html lang=&quot;en&quot;&gt;\n",
       "  &lt;head&gt;\n",
       "&lt;meta charset=&quot;UTF-8&quot; /&gt;\n",
       "\n",
       "&lt;link rel=&quot;shortcut icon&quot; type=&quot;image/png&quot; href=&quot;https://datapane-cdn.com/static/v1/datapane-icon-192x192.png&quot;/&gt;\n",
       "&lt;link rel=&quot;shortcut icon&quot; sizes=&quot;192x192&quot; href=&quot;https://datapane-cdn.com/static/v1/datapane-icon-192x192.png&quot;/&gt;\n",
       "&lt;link rel=&quot;apple-touch-icon&quot; href=&quot;https://datapane-cdn.com/static/v1/datapane-icon-192x192.png&quot;/&gt;\n",
       "\n",
       "&lt;script src=&quot;https://kit.fontawesome.com/256c714d9a.js&quot;&gt;&lt;/script&gt;\n",
       "&lt;link\n",
       "  href=&quot;https://fonts.googleapis.com/css?family=Inter:400,500,600,700|Inconsolata|Karla|Rubik&amp;display=swap&quot;\n",
       "  rel=&quot;stylesheet&quot;\n",
       "/&gt;\n",
       "&lt;link rel=&quot;stylesheet&quot; href=&quot;https://test.datapane-cdn.com/v-local-apps-dev/report/index.css&quot; /&gt;\n",
       "&lt;link rel=&quot;stylesheet&quot; href=&quot;https://test.datapane-cdn.com/v-local-apps-dev/report/tailwind.css&quot; /&gt;\n",
       "&lt;script&gt;\n",
       "  // analytics config\n",
       "  // TODO -- pass these in as props for consistency?\n",
       "  window.dpAppRunner = &quot;False&quot; === &quot;True&quot;;\n",
       "  window.dpLocal = true;\n",
       "    window.dpLocalViewEvent = true;\n",
       "    window.dpReportId = &quot;fbdf4d584909499a8bdb83358ea493b3&quot;;\n",
       "    window.dpAuthorId = &quot;472e75d7f66c4b00bd0dc9dcd2604647&quot;;\n",
       "  // construct the View\n",
       "  const appData = { data: { result: { view_xml: &quot;&amp;lt;View version=&amp;quot;1&amp;quot; fragment=&amp;quot;false&amp;quot;&amp;gt;&amp;lt;Plot type=&amp;quot;application/vnd.vegalite.v4+json&amp;quot; name=&amp;quot;plot&amp;quot; responsive=&amp;quot;true&amp;quot; scale=&amp;quot;1.0&amp;quot; src=&amp;quot;ref://e8d3359c6a&amp;quot;/&amp;gt;&amp;lt;/View&amp;gt;&quot;, assets: {&#039;e8d3359c6a&#039;: {&#039;src&#039;: &#039;data:application/vnd.vegalite.v4+json;base64,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&#039;, &#039;hash&#039;: &#039;e8d3359c6a&#039;, &#039;size&#039;: 21956, &#039;mime&#039;: &#039;application/vnd.vegalite.v4+json&#039;}} } }};\n",
       "  const htmlHeader = `&lt;style type=&quot;text/css&quot;&gt;:root {\n",
       "    --dp-accent-color: #4E46E5;\n",
       "    --dp-bg-color: #FFF;\n",
       "    --dp-text-align: justify;\n",
       "    --dp-font-family: Inter var, ui-sans-serif, system-ui;\n",
       "}&lt;/style&gt;`;\n",
       "  window.reportProps = { htmlHeader, appData, isLightProse: false, isOrg: false, mode: &quot;VIEW&quot; };\n",
       "&lt;/script&gt;\n",
       "&lt;script type=&quot;module&quot;&gt;\n",
       "  import { mountReport } from &quot;https://test.datapane-cdn.com/v-local-apps-dev/report/index.es.js&quot;;\n",
       "  mountReport(window.reportProps);\n",
       "&lt;/script&gt;\n",
       "  &lt;/head&gt;\n",
       "  &lt;body&gt;\n",
       "    &lt;main class=&quot;max-w-screen-xl w-full mx-auto&quot;&gt;\n",
       "      &lt;div id=&quot;report&quot; class=&quot;w-full&quot;&gt;&lt;/div&gt;\n",
       "    &lt;/main&gt;\n",
       "    &lt;script src=&quot;https://cdnjs.cloudflare.com/ajax/libs/iframe-resizer/4.3.2/iframeResizer.contentWindow.min.js&quot; integrity=&quot;sha512-14SY6teTzhrLWeL55Q4uCyxr6GQOxF3pEoMxo2mBxXwPRikdMtzKMYWy2B5Lqjr6PHHoGOxZgPaxUYKQrSmu0A==&quot; crossorigin=&quot;anonymous&quot; referrerpolicy=&quot;no-referrer&quot;&gt;&lt;/script&gt;\n",
       "  &lt;/body&gt;\n",
       "&lt;/html&gt;\n",
       "\" style=\"border: none\">\n",
       "</iframe>\n",
       "<script>\n",
       "  iFrameResize({ log: true, checkOrigin: false }, \"#dp-fbdf4d584909499a8bdb83358ea493b3\");\n",
       "</script>\n"
      ],
      "text/plain": [
       "<IPython.core.display.HTML object>"
      ]
     },
     "metadata": {},
     "output_type": "display_data"
    }
   ],
   "source": [
    "def plot(params):\n",
    "    global dataset\n",
    "\n",
    "    fig = (\n",
    "        alt.Chart(dataset)\n",
    "        .mark_point()\n",
    "        .encode(\n",
    "            x=alt.X(params[\"x_axis\"], scale=alt.Scale(zero=False)),\n",
    "            y=alt.X(params[\"y_axis\"], scale=alt.Scale(zero=False)),\n",
    "            color=params[\"color\"],\n",
    "            tooltip=columns,\n",
    "        )\n",
    "    )\n",
    "\n",
    "    return dp.Plot(fig, name=\"plot\")\n",
    "\n",
    "plot({\"x_axis\": \"sepalLength\", \"y_axis\": \"sepalWidth\", \"color\": \"species\"})"
   ]
  },
  {
   "attachments": {},
   "cell_type": "markdown",
   "id": "6f656621",
   "metadata": {},
   "source": [
    "Looking good. Let's highlight the differences between a _regular_ Python function, and a function that is ready for Datapane interactivity.\n",
    "\n",
    "- The first parameter is `params`, and it's a dictionary of the parameters we expect from the user submitted controls. The keys are determined by the `name` parameters of the controls that we'll create later.\n",
    "- We're returning a `dp.Plot` block, which supports visualizations from many popular libraries, including `altair`, `matplotlib`, `plotly`,`bokeh`, and `PlotAPI`.\n",
    "\n",
    "Datapane blocks have full notebook support, meaning they can be displayed in notebooks as seen above. "
   ]
  },
  {
   "attachments": {},
   "cell_type": "markdown",
   "id": "6404b2da",
   "metadata": {},
   "source": [
    "## Controls"
   ]
  },
  {
   "attachments": {},
   "cell_type": "markdown",
   "id": "115da36f",
   "metadata": {},
   "source": [
    "Let's create some Datapane controls to let the user select which features to plot, our feature list from earlier, `columns`, will be useful here."
   ]
  },
  {
   "cell_type": "code",
   "execution_count": 12,
   "id": "5de5cf8d",
   "metadata": {},
   "outputs": [],
   "source": [
    "controls = dp.Controls(\n",
    "    dp.Choice(\"x_axis\", options=columns),\n",
    "    dp.Choice(\"y_axis\", options=columns),\n",
    "    dp.Choice(\"color\", options=columns),\n",
    ")"
   ]
  },
  {
   "attachments": {},
   "cell_type": "markdown",
   "id": "f959bf7e",
   "metadata": {},
   "source": [
    "The first parameter of each `dp.choice` is used as the key in the `params` dictionary that we can access in our function."
   ]
  },
  {
   "attachments": {},
   "cell_type": "markdown",
   "id": "5f6839c5",
   "metadata": {},
   "source": [
    "## All Together"
   ]
  },
  {
   "attachments": {},
   "cell_type": "markdown",
   "id": "67d889ad",
   "metadata": {},
   "source": [
    "We have our function, and our controls, now let's bring them together in a data app."
   ]
  },
  {
   "cell_type": "code",
   "execution_count": 13,
   "id": "4ab76e63-bb39-49d7-9e2b-bfcd0f924a5e",
   "metadata": {},
   "outputs": [],
   "source": [
    "v = dp.View(\n",
    "    \"# Iris Dataset Plotter\",\n",
    "    dp.Group(\n",
    "        dp.Function(plot, target=\"plot\", submit_label=\"Plot\", controls=controls),\n",
    "        dp.Empty(name=\"plot\"),\n",
    "        columns=2,\n",
    "    ),\n",
    ")"
   ]
  },
  {
   "attachments": {},
   "cell_type": "markdown",
   "id": "5478acd0",
   "metadata": {},
   "source": [
    "Let's walk through the code.\n",
    "\n",
    "```python\n",
    "v = dp.View(\n",
    "```\n",
    "\n",
    "This is the root block of our data app, a container for everything else.\n",
    "\n",
    "```python\n",
    "    \"# Iris Dataset Plotter\",\n",
    "```\n",
    "\n",
    "This is a markdown block, which will be rendered as a heading in our app.\n",
    "\n",
    "```python\n",
    "    dp.Group(\n",
    "```\n",
    "\n",
    "This is another container block, we've used it to create a 2 column layout for our controls and plot.\n",
    "\n",
    "```python\n",
    "        dp.Function(plot, target=\"plot\", controls=controls),\n",
    "        dp.Empty(name=\"plot\"),\n",
    "```\n",
    "\n",
    "The first block is a `dp.Function` block, which is a special block that allows us to call a function from the UI. \n",
    "\n",
    "It takes the function we created earlier, `plot`, and the controls we created earlier, `controls`. The `target` parameter tells Datapane where to render the output of the function, in this case, to whatever block has the name `\"plot\"`."
   ]
  },
  {
   "attachments": {},
   "cell_type": "markdown",
   "id": "0d593ea4",
   "metadata": {},
   "source": [
    "We can even view the design of our data app in this notebook, but the functions won't work until we publish it."
   ]
  },
  {
   "cell_type": "code",
   "execution_count": 14,
   "id": "f8f37ffd",
   "metadata": {},
   "outputs": [
    {
     "data": {
      "text/html": [
       "<style>\n",
       "  #dp-62b9c222d29b4d198b5b16a2029319bc {\n",
       "    width: 1px;\n",
       "    min-width: 100%;\n",
       "  }\n",
       "</style>\n",
       "<script\n",
       "  src=\"https://cdnjs.cloudflare.com/ajax/libs/iframe-resizer/4.3.2/iframeResizer.min.js\"\n",
       "  integrity=\"sha512-dnvR4Aebv5bAtJxDunq3eE8puKAJrY9GBJYl9GC6lTOEC76s1dbDfJFcL9GyzpaDW4vlI/UjR8sKbc1j6Ynx6w==\"\n",
       "  crossorigin=\"anonymous\"\n",
       "  referrerpolicy=\"no-referrer\"\n",
       "></script>\n",
       "<iframe id=\"dp-62b9c222d29b4d198b5b16a2029319bc\" srcdoc=\"&lt;!DOCTYPE html&gt;\n",
       "&lt;html lang=&quot;en&quot;&gt;\n",
       "  &lt;head&gt;\n",
       "&lt;meta charset=&quot;UTF-8&quot; /&gt;\n",
       "\n",
       "&lt;link rel=&quot;shortcut icon&quot; type=&quot;image/png&quot; href=&quot;https://datapane-cdn.com/static/v1/datapane-icon-192x192.png&quot;/&gt;\n",
       "&lt;link rel=&quot;shortcut icon&quot; sizes=&quot;192x192&quot; href=&quot;https://datapane-cdn.com/static/v1/datapane-icon-192x192.png&quot;/&gt;\n",
       "&lt;link rel=&quot;apple-touch-icon&quot; href=&quot;https://datapane-cdn.com/static/v1/datapane-icon-192x192.png&quot;/&gt;\n",
       "\n",
       "&lt;script src=&quot;https://kit.fontawesome.com/256c714d9a.js&quot;&gt;&lt;/script&gt;\n",
       "&lt;link\n",
       "  href=&quot;https://fonts.googleapis.com/css?family=Inter:400,500,600,700|Inconsolata|Karla|Rubik&amp;display=swap&quot;\n",
       "  rel=&quot;stylesheet&quot;\n",
       "/&gt;\n",
       "&lt;link rel=&quot;stylesheet&quot; href=&quot;https://test.datapane-cdn.com/v-local-apps-dev/report/index.css&quot; /&gt;\n",
       "&lt;link rel=&quot;stylesheet&quot; href=&quot;https://test.datapane-cdn.com/v-local-apps-dev/report/tailwind.css&quot; /&gt;\n",
       "&lt;script&gt;\n",
       "  // analytics config\n",
       "  // TODO -- pass these in as props for consistency?\n",
       "  window.dpAppRunner = &quot;False&quot; === &quot;True&quot;;\n",
       "  window.dpLocal = true;\n",
       "    window.dpLocalViewEvent = true;\n",
       "    window.dpReportId = &quot;62b9c222d29b4d198b5b16a2029319bc&quot;;\n",
       "    window.dpAuthorId = &quot;472e75d7f66c4b00bd0dc9dcd2604647&quot;;\n",
       "  // construct the View\n",
       "  const appData = { data: { result: { view_xml: &quot;&amp;lt;View version=&amp;quot;1&amp;quot; fragment=&amp;quot;false&amp;quot;&amp;gt;&amp;lt;Text&amp;gt;&amp;lt;![CDATA[# Iris Dataset Plotter]]&amp;gt;&amp;lt;/Text&amp;gt;&amp;lt;Group columns=&amp;quot;2&amp;quot;&amp;gt;&amp;lt;Function function_id=&amp;quot;app.140377307876464&amp;quot; trigger=&amp;quot;submit&amp;quot; swap=&amp;quot;replace&amp;quot; target=&amp;quot;plot&amp;quot; submit_label=&amp;quot;Plot&amp;quot;&amp;gt;&amp;lt;Controls&amp;gt;&amp;lt;Choice name=&amp;quot;x_axis&amp;quot; required=&amp;quot;true&amp;quot; choices=&amp;quot;[&amp;amp;quot;sepalLength&amp;amp;quot;, &amp;amp;quot;sepalWidth&amp;amp;quot;, &amp;amp;quot;petalLength&amp;amp;quot;, &amp;amp;quot;petalWidth&amp;amp;quot;, &amp;amp;quot;species&amp;amp;quot;]&amp;quot;/&amp;gt;&amp;lt;Choice name=&amp;quot;y_axis&amp;quot; required=&amp;quot;true&amp;quot; choices=&amp;quot;[&amp;amp;quot;sepalLength&amp;amp;quot;, &amp;amp;quot;sepalWidth&amp;amp;quot;, &amp;amp;quot;petalLength&amp;amp;quot;, &amp;amp;quot;petalWidth&amp;amp;quot;, &amp;amp;quot;species&amp;amp;quot;]&amp;quot;/&amp;gt;&amp;lt;Choice name=&amp;quot;color&amp;quot; required=&amp;quot;true&amp;quot; choices=&amp;quot;[&amp;amp;quot;sepalLength&amp;amp;quot;, &amp;amp;quot;sepalWidth&amp;amp;quot;, &amp;amp;quot;petalLength&amp;amp;quot;, &amp;amp;quot;petalWidth&amp;amp;quot;, &amp;amp;quot;species&amp;amp;quot;]&amp;quot;/&amp;gt;&amp;lt;/Controls&amp;gt;&amp;lt;/Function&amp;gt;&amp;lt;Empty name=&amp;quot;plot&amp;quot;/&amp;gt;&amp;lt;/Group&amp;gt;&amp;lt;/View&amp;gt;&quot;, assets: {} } }};\n",
       "  const htmlHeader = `&lt;style type=&quot;text/css&quot;&gt;:root {\n",
       "    --dp-accent-color: #4E46E5;\n",
       "    --dp-bg-color: #FFF;\n",
       "    --dp-text-align: justify;\n",
       "    --dp-font-family: Inter var, ui-sans-serif, system-ui;\n",
       "}&lt;/style&gt;`;\n",
       "  window.reportProps = { htmlHeader, appData, isLightProse: false, isOrg: false, mode: &quot;VIEW&quot; };\n",
       "&lt;/script&gt;\n",
       "&lt;script type=&quot;module&quot;&gt;\n",
       "  import { mountReport } from &quot;https://test.datapane-cdn.com/v-local-apps-dev/report/index.es.js&quot;;\n",
       "  mountReport(window.reportProps);\n",
       "&lt;/script&gt;\n",
       "  &lt;/head&gt;\n",
       "  &lt;body&gt;\n",
       "    &lt;main class=&quot;max-w-screen-xl w-full mx-auto&quot;&gt;\n",
       "      &lt;div id=&quot;report&quot; class=&quot;w-full&quot;&gt;&lt;/div&gt;\n",
       "    &lt;/main&gt;\n",
       "    &lt;script src=&quot;https://cdnjs.cloudflare.com/ajax/libs/iframe-resizer/4.3.2/iframeResizer.contentWindow.min.js&quot; integrity=&quot;sha512-14SY6teTzhrLWeL55Q4uCyxr6GQOxF3pEoMxo2mBxXwPRikdMtzKMYWy2B5Lqjr6PHHoGOxZgPaxUYKQrSmu0A==&quot; crossorigin=&quot;anonymous&quot; referrerpolicy=&quot;no-referrer&quot;&gt;&lt;/script&gt;\n",
       "  &lt;/body&gt;\n",
       "&lt;/html&gt;\n",
       "\" style=\"border: none\">\n",
       "</iframe>\n",
       "<script>\n",
       "  iFrameResize({ log: true, checkOrigin: false }, \"#dp-62b9c222d29b4d198b5b16a2029319bc\");\n",
       "</script>\n"
      ],
      "text/plain": [
       "<IPython.core.display.HTML object>"
      ]
     },
     "metadata": {},
     "output_type": "display_data"
    }
   ],
   "source": [
    "v"
   ]
  },
  {
   "attachments": {},
   "cell_type": "markdown",
   "id": "cc5d0e67",
   "metadata": {},
   "source": [
    "## Launching the App"
   ]
  },
  {
   "attachments": {},
   "cell_type": "markdown",
   "id": "9e95b361",
   "metadata": {},
   "source": [
    "There are many ways to publish a Datapane app, but for now, let's use the `dp.serve` function to see it in action locally."
   ]
  },
  {
   "cell_type": "code",
   "execution_count": null,
   "id": "3cdf7ac9",
   "metadata": {},
   "outputs": [],
   "source": [
    "dp.serve(v)"
   ]
  },
  {
   "attachments": {},
   "cell_type": "markdown",
   "id": "378a4f80",
   "metadata": {},
   "source": [
    "That's it! You've created and served your first data app with Datapane.\n",
    "\n",
    "We could have done a lot more with this app, but we wanted to keep it simple. Here are some easy improvements we could make:\n",
    "\n",
    "- Add descriptions and labels to the controls,\n",
    "- Set the default values for the controls,\n",
    "- Present a plot by default, rather than waiting for the user to select features.\n",
    "- Set `publish=True` to get a public URL for your app.\n",
    "- Upload the app to the Datapane Cloud to share with your team."
   ]
  },
  {
   "attachments": {},
   "cell_type": "markdown",
   "id": "5c0fc785",
   "metadata": {},
   "source": [
    "## Next Steps\n",
    "\n",
    "- Visit the `examples` folder to see more exciting examples of Datapane apps.\n",
    "- [Join Discord](https://chat.datapane.com)\n",
    "- [Sign up for a free account](https://datapane.com/accounts/signup)\n",
    "- [Read the documentation](https://docs.datapane.com)\n",
    "- [Ask a question](https://forum.datapane.com/)"
   ]
  }
 ],
 "metadata": {
  "kernelspec": {
   "display_name": "Python 3",
   "language": "python",
   "name": "python3"
  },
  "language_info": {
   "codemirror_mode": {
    "name": "ipython",
    "version": 3
   },
   "file_extension": ".py",
   "mimetype": "text/x-python",
   "name": "python",
   "nbconvert_exporter": "python",
   "pygments_lexer": "ipython3",
   "version": "3.10.4"
  },
  "vscode": {
   "interpreter": {
    "hash": "3ad933181bd8a04b432d3370b9dc3b0662ad032c4dfaa4e4f1596c548f763858"
   }
  }
 },
 "nbformat": 4,
 "nbformat_minor": 5
}
