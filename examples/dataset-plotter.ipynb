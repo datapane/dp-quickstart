{
 "cells": [
  {
   "cell_type": "code",
   "execution_count": 1,
   "metadata": {},
   "outputs": [
    {
     "name": "stderr",
     "output_type": "stream",
     "text": [
      "Enabling experimental cache support for <function serve.<locals>.<lambda> at 0x7f3ad10feef0>\n",
      "You can run this notebook in Jupyter Lab or Jupyter Notebook for an improved experience.\n",
      "\n"
     ]
    },
    {
     "data": {
      "text/html": [
       "<p>Your app is running on: <a href=\"http://127.0.0.1:8080\">http://127.0.0.1:8080</a></p><p>Use notebook ⏹ or 'Stop/Interrupt' button to halt.</p>"
      ],
      "text/plain": [
       "<IPython.core.display.HTML object>"
      ]
     },
     "metadata": {},
     "output_type": "display_data"
    }
   ],
   "source": [
    "import datapane as dp\n",
    "import pandas as pd\n",
    "import altair as alt\n",
    "\n",
    "dataset = None\n",
    "columns = None\n",
    "\n",
    "\n",
    "def plot_dataset(params):\n",
    "    global dataset\n",
    "\n",
    "    fig = (\n",
    "        alt.Chart(dataset)\n",
    "        .mark_point()\n",
    "        .encode(\n",
    "            x=alt.X(params[\"x_axis\"], scale=alt.Scale(zero=False)),\n",
    "            y=alt.X(params[\"y_axis\"], scale=alt.Scale(zero=False)),\n",
    "            color=params[\"color\"],\n",
    "            tooltip=columns,\n",
    "        )\n",
    "    )\n",
    "\n",
    "    return dp.Plot(fig, name=\"plot\")\n",
    "\n",
    "\n",
    "def upload_dataset(params):\n",
    "    global dataset, columns\n",
    "    dataset = pd.read_csv(params[\"dataset\"])\n",
    "    columns = list(dataset.columns)\n",
    "\n",
    "    plot_controls = dp.Controls(\n",
    "        dp.Choice(\"x_axis\", options=columns, default=columns[0]),\n",
    "        dp.Choice(\"y_axis\", options=columns, default=columns[0]),\n",
    "        dp.Choice(\"color\", options=columns, default=columns[0]),\n",
    "    )\n",
    "\n",
    "    return dp.Group(\n",
    "        dp.DataTable(dataset),\n",
    "        dp.Group(\n",
    "            dp.Function(\n",
    "                plot_dataset,\n",
    "                target=\"plot\",\n",
    "                submit_label=\"Plot\",\n",
    "                controls=plot_controls,\n",
    "            ),\n",
    "            dp.Empty(name=\"plot\"),\n",
    "            columns=2,\n",
    "        ),\n",
    "    )\n",
    "\n",
    "\n",
    "controls = dp.Controls(\n",
    "    dp.File(\"dataset\", label=\"Upload test data\"),\n",
    ")\n",
    "\n",
    "upload_and_display = dp.View(\n",
    "    dp.Select(\n",
    "        blocks=[\n",
    "            dp.Group(\n",
    "                dp.Text(\n",
    "                    \"Please upload a dataset.\",\n",
    "                ),\n",
    "                label=\"Explore\",\n",
    "                name=\"dataset\",\n",
    "            ),\n",
    "            dp.Group(\n",
    "                dp.Function(\n",
    "                    upload_dataset,\n",
    "                    target=\"dataset\",\n",
    "                    submit_label=\"Upload\",\n",
    "                    swap=dp.Swap.INNER,\n",
    "                    controls=controls,\n",
    "                ),\n",
    "                label=\"Upload dataset\",\n",
    "            ),\n",
    "        ]\n",
    "    )\n",
    ")\n",
    "dp.serve(upload_and_display)"
   ]
  }
 ],
 "metadata": {
  "kernelspec": {
   "display_name": "Python 3",
   "language": "python",
   "name": "python3"
  },
  "language_info": {
   "codemirror_mode": {
    "name": "ipython",
    "version": 3
   },
   "file_extension": ".py",
   "mimetype": "text/x-python",
   "name": "python",
   "nbconvert_exporter": "python",
   "pygments_lexer": "ipython3",
   "version": "3.10.4"
  },
  "orig_nbformat": 4,
  "vscode": {
   "interpreter": {
    "hash": "3ad933181bd8a04b432d3370b9dc3b0662ad032c4dfaa4e4f1596c548f763858"
   }
  }
 },
 "nbformat": 4,
 "nbformat_minor": 2
}
