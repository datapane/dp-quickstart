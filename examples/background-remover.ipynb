{
 "cells": [
  {
   "cell_type": "code",
   "execution_count": null,
   "metadata": {},
   "outputs": [],
   "source": [
    "%pip install rembg==2.0.30"
   ]
  },
  {
   "cell_type": "code",
   "execution_count": null,
   "metadata": {},
   "outputs": [],
   "source": [
    "import datapane as dp\n",
    "from rembg import remove\n",
    "from PIL import Image\n",
    "\n",
    "\n",
    "def fix_image(params):\n",
    "    image = Image.open(params[\"upload\"])\n",
    "    fixed = remove(image)\n",
    "    image.save(\"original.png\", \"PNG\")\n",
    "    fixed.save(\"fixed.png\", \"PNG\")\n",
    "\n",
    "    return dp.Group(\n",
    "        dp.Group(\n",
    "            \"Original Image 📷\",\n",
    "            dp.Media(file=\"original.png\"),\n",
    "            dp.Attachment(file=\"original.png\"),\n",
    "        ),\n",
    "        dp.Group(\n",
    "            \"Fixed Image 🔧\", dp.Media(file=\"fixed.png\"), dp.Attachment(file=\"fixed.png\")\n",
    "        ),\n",
    "        columns=2,\n",
    "    )\n",
    "\n",
    "\n",
    "v = dp.View(\n",
    "    dp.Group(\n",
    "        \"\"\"## Remove the background from your image\n",
    "🐶 Try uploading an image to watch the background magically removed. Full quality images can be downloaded from the sidebar. This code is open source and available here on GitHub. Special thanks to the <a href=\"https://github.com/danielgatis/rembg\">rembg</a> library 😁\"\"\",\n",
    "        dp.Function(\n",
    "            fix_image, target=\"results\", controls=dp.Controls(dp.File(\"upload\"))\n",
    "        ),\n",
    "        columns=2,\n",
    "    ),\n",
    "    dp.Group(fix_image({\"upload\": open(\"zebra.jpg\", \"rb\")}), name=\"results\"),\n",
    ")\n",
    "\n",
    "dp.serve(v)"
   ]
  }
 ],
 "metadata": {
  "kernelspec": {
   "display_name": "Python 3",
   "language": "python",
   "name": "python3"
  },
  "language_info": {
   "codemirror_mode": {
    "name": "ipython",
    "version": 3
   },
   "file_extension": ".py",
   "mimetype": "text/x-python",
   "name": "python",
   "nbconvert_exporter": "python",
   "pygments_lexer": "ipython3",
   "version": "3.10.4"
  },
  "orig_nbformat": 4,
  "vscode": {
   "interpreter": {
    "hash": "3ad933181bd8a04b432d3370b9dc3b0662ad032c4dfaa4e4f1596c548f763858"
   }
  }
 },
 "nbformat": 4,
 "nbformat_minor": 2
}
