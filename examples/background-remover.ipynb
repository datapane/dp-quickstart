{
 "cells": [
  {
   "cell_type": "code",
   "execution_count": null,
   "metadata": {},
   "outputs": [],
   "source": [
    "%pip install rembg==2.0.30"
   ]
  },
  {
   "cell_type": "code",
   "execution_count": null,
   "metadata": {},
   "outputs": [],
   "source": [
    "import datapane as dp\n",
    "from rembg import remove\n",
    "from PIL import Image\n",
    "\n",
    "\n",
    "def fix_image(params):\n",
    "    image = Image.open(params[\"upload\"])\n",
    "    fixed = remove(image)\n",
    "    image.save(\"original.png\", \"PNG\")\n",
    "    fixed.save(\"fixed.png\", \"PNG\")\n",
    "\n",
    "    return dp.Group(\n",
    "        dp.Group(\n",
    "            \"Original Image 📷\",\n",
    "            dp.Media(file=\"original.png\"),\n",
    "            dp.Attachment(file=\"original.png\"),\n",
    "        ),\n",
    "        dp.Group(\n",
    "            \"Fixed Image 🔧\", dp.Media(file=\"fixed.png\"), dp.Attachment(file=\"fixed.png\")\n",
    "        ),\n",
    "        columns=2,\n",
    "    )\n",
    "\n",
    "\n",
    "v = dp.View(\n",
    "    dp.Group(\n",
    "        \"\"\"## Remove the background from your image\n",
    "🐶 Try uploading an image to watch the background magically removed. Full quality images can be downloaded from the sidebar. This code is open source and available here on GitHub. Special thanks to the <a href=\"https://github.com/danielgatis/rembg\">rembg</a> library 😁\"\"\",\n",
    "        dp.Function(\n",
    "            fix_image, target=\"results\", controls=dp.Controls(dp.File(\"upload\"))\n",
    "        ),\n",
    "        columns=2,\n",
    "    ),\n",
    "    dp.Group(fix_image({\"upload\": open(\"zebra.jpg\", \"rb\")}), name=\"results\"),\n",
    ")\n",
    "\n",
    "dp.serve(v)"
   ]
  }
 ],
 "metadata": {
  "language_info": {
   "name": "python"
  }
 },
 "nbformat": 4,
 "nbformat_minor": 2
}
