{
 "cells": [
  {
   "cell_type": "code",
   "execution_count": null,
   "id": "90aa6ab6",
   "metadata": {},
   "outputs": [],
   "source": [
    "%pip install scikit-image==0.19.3"
   ]
  },
  {
   "cell_type": "code",
   "execution_count": null,
   "id": "6b45505b-e6f7-4e72-995f-d83fabcd1742",
   "metadata": {},
   "outputs": [],
   "source": [
    "import json\n",
    "import os\n",
    "\n",
    "import datapane as dp\n",
    "import matplotlib\n",
    "import matplotlib.pyplot as plt\n",
    "import skimage\n",
    "from skimage import data, img_as_ubyte\n",
    "from skimage.color import gray2rgb, rgb2gray, yuv2rgb\n",
    "from skimage.filters import roberts\n",
    "from skimage.io import imread, imsave\n",
    "from skimage.morphology import skeletonize"
   ]
  },
  {
   "cell_type": "markdown",
   "id": "07e1742b-3206-4ff0-882c-49d50c4fe44f",
   "metadata": {},
   "source": [
    "## Globals"
   ]
  },
  {
   "cell_type": "code",
   "execution_count": null,
   "id": "a247ed76-77b5-4174-acbe-76e4e6fb9399",
   "metadata": {},
   "outputs": [],
   "source": [
    "img = data.astronaut()\n",
    "operation_history = []"
   ]
  },
  {
   "cell_type": "markdown",
   "id": "39cee6a7-1b26-4119-9e2a-ca5c080f3b93",
   "metadata": {},
   "source": [
    "## Custom operations"
   ]
  },
  {
   "cell_type": "code",
   "execution_count": null,
   "id": "32f7710f-13e5-4952-91d0-7651db4bf24a",
   "metadata": {},
   "outputs": [],
   "source": [
    "def tint_red(img):\n",
    "    multiplier = [1, 0, 0]\n",
    "    img = img * multiplier\n",
    "    return img\n",
    "\n",
    "\n",
    "def tint_yellow(img):\n",
    "    multiplier = [1, 1, 0]\n",
    "    img = img * multiplier\n",
    "    return img"
   ]
  },
  {
   "cell_type": "markdown",
   "id": "70401246-244d-4fec-a6d4-a23021491441",
   "metadata": {},
   "source": [
    "## Utils"
   ]
  },
  {
   "cell_type": "code",
   "execution_count": null,
   "id": "bd777705-afb1-4f9c-8c3a-2682e233db1e",
   "metadata": {},
   "outputs": [],
   "source": [
    "def convert_bytes(num):\n",
    "    \"\"\"\n",
    "    this function will convert bytes to MB.... GB... etc\n",
    "    \"\"\"\n",
    "    for x in [\"bytes\", \"KB\", \"MB\", \"GB\", \"TB\"]:\n",
    "        if num < 1024.0:\n",
    "            return \"%3.1f %s\" % (num, x)\n",
    "        num /= 1024.0"
   ]
  },
  {
   "cell_type": "markdown",
   "id": "6aabf4f2-375a-4eb1-a474-ea028e1e425e",
   "metadata": {},
   "source": [
    "## Image operation result row (Datapane blocks)"
   ]
  },
  {
   "cell_type": "code",
   "execution_count": null,
   "id": "c34d37aa-95d8-4dcd-a454-7d7b6a7d6fb7",
   "metadata": {},
   "outputs": [],
   "source": [
    "def operation_result(last_operation):\n",
    "    global img\n",
    "    global operation_history\n",
    "\n",
    "    imsave(\"img.png\", img)\n",
    "\n",
    "    with open(\"operation.json\", \"w\") as f:\n",
    "        json.dump(operation_history, f)\n",
    "\n",
    "    return dp.Group(\n",
    "        dp.Media(file=\"img.png\"),\n",
    "        dp.Group(\n",
    "            dp.Group(\n",
    "                dp.Text(\n",
    "                    f\"\"\"## Metadata\n",
    "- **Last operation**: {last_operation}\n",
    "- **Axes**: {img.ndim}\n",
    "- **Dimensions**: {img.shape}\n",
    "- **Size**: {img.size}\n",
    "- **Type**: {img.dtype}\n",
    "- **File size**: {convert_bytes(os.path.getsize('img.png'))}\"\"\"\n",
    "                ),\n",
    "            ),\n",
    "            dp.Group(\n",
    "                dp.Text(\"## Export\"),\n",
    "                dp.Group(\n",
    "                    dp.Attachment(file=\"img.png\"),\n",
    "                    dp.Attachment(file=\"operation.json\"),\n",
    "                    columns=2,\n",
    "                ),\n",
    "            ),\n",
    "        ),\n",
    "        columns=2,\n",
    "    )"
   ]
  },
  {
   "cell_type": "markdown",
   "id": "4d2b1a05-fa92-49aa-9926-6025bfb1b736",
   "metadata": {},
   "source": [
    "## Function to operate on an image, returns operation result"
   ]
  },
  {
   "cell_type": "code",
   "execution_count": null,
   "id": "a38e652a-fb2d-4b56-b1ac-c53ab67a622f",
   "metadata": {},
   "outputs": [],
   "source": [
    "def image_operation(params):\n",
    "    global img\n",
    "    global operation_history\n",
    "    \n",
    "    operation_history.append(params[\"operation\"])\n",
    "    img = globals()[params[\"operation\"]](img)\n",
    "\n",
    "    return dp.View(operation_result(params[\"operation\"]))"
   ]
  },
  {
   "cell_type": "markdown",
   "id": "a6dedcb6-0525-429d-8fd5-d34b088e67c0",
   "metadata": {},
   "source": [
    "## Function to load a new image, returns operation result"
   ]
  },
  {
   "cell_type": "code",
   "execution_count": null,
   "id": "4e3d7216-3901-443f-8e24-26d59bac11a5",
   "metadata": {},
   "outputs": [],
   "source": [
    "def load_image(params):\n",
    "    global img\n",
    "    global operation_history\n",
    "\n",
    "    operation_history = []\n",
    "    caller = getattr(data, params[\"image\"])\n",
    "    img = caller()\n",
    "\n",
    "    return dp.View(operation_result(f\"load image ({params['image']})\"))"
   ]
  },
  {
   "cell_type": "markdown",
   "id": "1e3cb1f0-8c73-46ba-9d0e-b57233991f81",
   "metadata": {},
   "source": [
    "## Datapane Controls for image manipulation"
   ]
  },
  {
   "cell_type": "code",
   "execution_count": null,
   "id": "80149911-ba4f-467b-a80e-653330a6d3d5",
   "metadata": {},
   "outputs": [],
   "source": [
    "operation_controls = dp.Controls(\n",
    "    dp.Choice(\n",
    "        \"operation\",\n",
    "        label=\"Select an operation\",\n",
    "        default=\"rgb2gray\",\n",
    "        options=[\n",
    "            \"rgb2gray\",\n",
    "            \"gray2rgb\",\n",
    "            \"tint_red\",\n",
    "            \"tint_yellow\",\n",
    "            \"skeletonize\",\n",
    "            \"roberts\",\n",
    "        ],\n",
    "    ),\n",
    ")\n",
    "\n",
    "\n",
    "image_controls = dp.Controls(\n",
    "    dp.Choice(\n",
    "        \"image\",\n",
    "        label=\"Load image & restart\",\n",
    "        default=\"astronaut\",\n",
    "        options=[\n",
    "            \"astronaut\",\n",
    "            \"binary_blobs\",\n",
    "            \"brick\",\n",
    "            \"colorwheel\",\n",
    "            \"camera\",\n",
    "            \"cat\",\n",
    "            \"checkerboard\",\n",
    "            \"clock\",\n",
    "            \"coffee\",\n",
    "            \"coins\",\n",
    "            \"eagle\",\n",
    "            \"grass\",\n",
    "            \"gravel\",\n",
    "            \"horse\",\n",
    "            \"logo\",\n",
    "            \"page\",\n",
    "            \"text\",\n",
    "            \"rocket\",\n",
    "        ],\n",
    "    ),\n",
    ")"
   ]
  },
  {
   "cell_type": "markdown",
   "id": "43440d60-3dde-47d3-8888-33c8b1ab4f87",
   "metadata": {},
   "source": [
    "## Construct Datapane App and serve"
   ]
  },
  {
   "cell_type": "code",
   "execution_count": null,
   "id": "c9026dcc-943f-4310-9bd0-6fc410d5d205",
   "metadata": {},
   "outputs": [],
   "source": [
    "v = dp.View(\n",
    "    dp.Group(\n",
    "        dp.Function(\n",
    "            image_operation,\n",
    "            target=\"image_history\",\n",
    "            controls=operation_controls,\n",
    "            swap=dp.Swap.PREPEND,\n",
    "        ),\n",
    "        dp.Function(\n",
    "            load_image,\n",
    "            target=\"image_history\",\n",
    "            controls=image_controls,\n",
    "            swap=dp.Swap.INNER,\n",
    "        ),\n",
    "        columns=2,\n",
    "    ),\n",
    "    dp.Group(operation_result(\"load image\"), name=\"image_history\"),\n",
    ")\n",
    "\n",
    "\n",
    "dp.serve(v)"
   ]
  }
 ],
 "metadata": {
  "language_info": {
   "name": "python"
  }
 },
 "nbformat": 4,
 "nbformat_minor": 5
}
